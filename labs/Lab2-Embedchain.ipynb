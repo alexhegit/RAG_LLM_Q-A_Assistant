{
 "cells": [
  {
   "cell_type": "markdown",
   "metadata": {
    "scrolled": true
   },
   "source": [
    "!pip install -q embedchain sentence-transformers chromadb"
   ]
  },
  {
   "cell_type": "markdown",
   "metadata": {},
   "source": [
    "export HSA_OVERRIDE_GFX_VERSION=11.0.0"
   ]
  },
  {
   "cell_type": "code",
   "execution_count": 1,
   "metadata": {
    "scrolled": true
   },
   "outputs": [],
   "source": [
    "import os"
   ]
  },
  {
   "cell_type": "code",
   "execution_count": 2,
   "metadata": {},
   "outputs": [],
   "source": [
    "# enalbe 780M with ROCm\n",
    "os.environ['HSA_OVERRIDE_GFX_VERSION'] = '11.0.0'"
   ]
  },
  {
   "cell_type": "code",
   "execution_count": 3,
   "metadata": {},
   "outputs": [],
   "source": [
    "import torch"
   ]
  },
  {
   "cell_type": "code",
   "execution_count": 4,
   "metadata": {},
   "outputs": [
    {
     "name": "stdout",
     "output_type": "stream",
     "text": [
      "Using GPU: AMD Radeon Graphics\n",
      "GPU properties: _CudaDeviceProperties(name='AMD Radeon Graphics', major=11, minor=0, gcnArchName='gfx1100', total_memory=16384MB, multi_processor_count=6)\n"
     ]
    }
   ],
   "source": [
    "if torch.cuda.is_available():\n",
    "    device = torch.device(\"cuda\")          # a CUDA device object\n",
    "    print('Using GPU:', torch.cuda.get_device_name(0))\n",
    "    print('GPU properties:', torch.cuda.get_device_properties(0))\n",
    "else:\n",
    "    device = torch.device(\"cpu\")\n",
    "    print('Using CPU')"
   ]
  },
  {
   "cell_type": "markdown",
   "metadata": {},
   "source": [
    "!pip install embedchain[opensource]"
   ]
  },
  {
   "cell_type": "code",
   "execution_count": 5,
   "metadata": {},
   "outputs": [],
   "source": [
    "from embedchain import App"
   ]
  },
  {
   "cell_type": "markdown",
   "metadata": {
    "scrolled": true
   },
   "source": [
    "CUMapp = App().from_config(config_path=\"ec_config.yaml\")"
   ]
  },
  {
   "cell_type": "code",
   "execution_count": 6,
   "metadata": {},
   "outputs": [],
   "source": [
    "CUMapp = App.from_config(config={\n",
    "    \"llm\": {\n",
    "        \"provider\": \"ollama\",\n",
    "        \"config\": {\n",
    "            \"model\": \"tinyllama\",\n",
    "            \"temperature\": 0.5,\n",
    "            \"top_p\": 1,\n",
    "            \"stream\": True,\n",
    "            \"base_url\": 'http://localhost:11434'\n",
    "        }\n",
    "    },\n",
    "    \"embedder\": {\n",
    "        \"provider\": \"ollama\",\n",
    "        \"config\": {\n",
    "            \"model\": \"nomic-embed-text\"\n",
    "\n",
    "        }\n",
    "    }\n",
    "})"
   ]
  },
  {
   "cell_type": "markdown",
   "metadata": {},
   "source": [
    "CUMapp = App.from_config(config={\n",
    "    \"llm\": {\n",
    "        \"provider\": \"ollama\",\n",
    "        \"config\": {\n",
    "            \"model\": \"llama2\",\n",
    "            \"temperature\": 0.5,\n",
    "            \"top_p\": 1,\n",
    "            \"stream\": True,\n",
    "            \"base_url\": 'http://localhost:11434'\n",
    "        }\n",
    "    },\n",
    "    \"embedder\": {\n",
    "        \"provider\": \"ollama\",\n",
    "        \"config\": {\n",
    "            \"model\": \"mxbai-embed-large:latest\",\n",
    "            \"base_url\": 'http://localhost:11434'\n",
    "        }\n",
    "    }\n",
    "})"
   ]
  },
  {
   "cell_type": "markdown",
   "metadata": {},
   "source": [
    "from embedchain import App\n",
    "CUMapp = App.from_config(config_path=\"ec_config.yaml\")"
   ]
  },
  {
   "cell_type": "code",
   "execution_count": 7,
   "metadata": {},
   "outputs": [
    {
     "data": {
      "text/plain": [
       "'8adb90902443fe6eced00a76df932c15'"
      ]
     },
     "execution_count": 7,
     "metadata": {},
     "output_type": "execute_result"
    }
   ],
   "source": [
    "CUMapp.add('../data/FordUM.pdf', data_type='pdf_file')"
   ]
  },
  {
   "cell_type": "code",
   "execution_count": 8,
   "metadata": {
    "scrolled": true
   },
   "outputs": [
    {
     "name": "stdout",
     "output_type": "stream",
     "text": [
      "The context provided for each query is rooted in the specific context of the vehicle's entry and exit procedures. This includes information such as how the vehicle's door handles work, how to operate the key fob or remote to unlock and start the engine, and how to exit the vehicle safely. The context also mentions any necessary precautions for entering and exiting the vehicle, such as turning off the engine and closing the doors properly after exiting. Overall, the context is informative and provides helpful information to ensure the safety of passengers during entry and exit procedures."
     ]
    },
    {
     "data": {
      "text/plain": [
       "(\"The context provided for each query is rooted in the specific context of the vehicle's entry and exit procedures. This includes information such as how the vehicle's door handles work, how to operate the key fob or remote to unlock and start the engine, and how to exit the vehicle safely. The context also mentions any necessary precautions for entering and exiting the vehicle, such as turning off the engine and closing the doors properly after exiting. Overall, the context is informative and provides helpful information to ensure the safety of passengers during entry and exit procedures.\",\n",
       " [('How Doe s Cross T raffic Br aking Work. 245 How Doe s Driv e Mode C ontr ol Work. 303 How Doe s Driv er A lert W ork. 336 How Doe s Driv er Identific ation Work. 553 How Doe s Easy Entry and E xit Work. 90 How Doe s Exit W arning W ork. 319 How Doe s Four-W heel Driv e W ork.230 How Doe s Hill S tart A ssis t Work. 248 How Doe s Int ellig ent Ba ckup P ower Work. 221 How Doe s Onbo ard Scales W ork. 386 How Doe s Pre-Collision A ssis t Work. 326 How Doe s Reverse Br aking A ssis t Work. 241 How Doe s Smart Hit ch W ork. 383 How Doe s Speed Sign R ecognition Work. 338 How Doe s Stabilit y Contr ol W ork. 253 How Doe s the 36 0 De gree Camer a Work. 266 How Doe s the El ectronic L ocking Differential W ork. 232 How Doe s the L ane K eeping S ystem Work. 307 How Doe s the P ersonal S afety System Work. 56 How Doe s the R ear Oc cupant A lert System W ork. 173 How Doe s the S afety Canop y™ Work. 58 How Doe s Traction C ontr ol W ork. 251 How Doe s Trailer Ba ckup A ssis tanc e Work. 389',\n",
       "   {'app_id': 'default-app-id',\n",
       "    'data_type': 'pdf_file',\n",
       "    'doc_id': 'default-app-id--982f661358ff56d0f446b170bf17fa92123a26a52284033134f9afdafdc5f2ec',\n",
       "    'hash': '8adb90902443fe6eced00a76df932c15',\n",
       "    'page': 645,\n",
       "    'source': '../data/FordUM.pdf',\n",
       "    'url': '../data/FordUM.pdf',\n",
       "    'score': 522.472412109375}),\n",
       "  ('t. 248 What Is Int ellig ent Ba ckup P ower. 221 What Is K eyless Entry . 86 What Is MyK ey. 78 What Is Onbo ard Scales. 386 What is One P edal Driv e. 305 What Is Phone a s a K ey. 74 What Is P re-Collision A ssis t. 326 What Is R emot e Start. 146 What Is R everse Br aking A ssis t. 241 What Is S mart Hit ch. 383What Is S peed Sign R ecognition . 338 What Is the 36 0 De gree Camer a. 266 What Is the C abin Air Fil ter. 159 What Is the El ectric P arking Br ake. 238 What Is the El ectronic L ocking Differential . 232 What Is the Gr oss Axl e W eight Rating . 343 What Is the Gr oss C ombine d W eight Rating . 343 What Is the Gr oss V ehicl e W eight Rating . 343 What Is the High V oltage Ba ttery. 196 What Is the Int egrated Trailer Br ake Contr oller. 373 What Is the K eyless Entry K eypad. 88 What Is the L ane K eeping S ystem. 307 What Is the Memory Func tion . 175 What Is the Onbo ard Gener ator. 183 What Is the P edestrian A lert System. 66 What Is the P ersonal S afety System.',\n",
       "   {'app_id': 'default-app-id',\n",
       "    'data_type': 'pdf_file',\n",
       "    'doc_id': 'default-app-id--982f661358ff56d0f446b170bf17fa92123a26a52284033134f9afdafdc5f2ec',\n",
       "    'hash': '8adb90902443fe6eced00a76df932c15',\n",
       "    'page': 658,\n",
       "    'source': '../data/FordUM.pdf',\n",
       "    'url': '../data/FordUM.pdf',\n",
       "    'score': 531.45899867155}),\n",
       "  ('Hill S tart A ssis t Precautions . 248 Hill S tart A ssis t – Troubl eshooting . 248 Hill S tart A ssis t – Inf orma tion Messages. 248 Hitche s. 361 Hooking Up a T railer Using a Weight-Dis tributing Hit ch. 361 Hood L ock See: Opening and Cl osing the Hood . 440 Horn . 107 How Doe s 911 A ssis t Work. 67 How Doe s Active Park A ssis t Work.270 How Doe s Adaptiv e Cruise Contr ol W ith Stop and G o W ork. 281 How Doe s Auto Hol d W ork. 249 How Doe s Blind S pot Inf orma tion System W ork. 314 How Doe s Bl ueC ruise W ork. 297 How Doe s Cross T raffic A lert Work. 323 641 2023 F-150 Lightning (TFD ) Electric, Cana da/Unit ed States of Americ a, enU SA, Edition da te: 202206 , DOMInde x',\n",
       "   {'app_id': 'default-app-id',\n",
       "    'data_type': 'pdf_file',\n",
       "    'doc_id': 'default-app-id--982f661358ff56d0f446b170bf17fa92123a26a52284033134f9afdafdc5f2ec',\n",
       "    'hash': '8adb90902443fe6eced00a76df932c15',\n",
       "    'page': 644,\n",
       "    'source': '../data/FordUM.pdf',\n",
       "    'url': '../data/FordUM.pdf',\n",
       "    'score': 538.2193603515625})])"
      ]
     },
     "execution_count": 8,
     "metadata": {},
     "output_type": "execute_result"
    }
   ],
   "source": [
    "CUMapp.query(\"HOW DOES EASY ENTRY AND EXIT WORK\", citations=True)"
   ]
  },
  {
   "cell_type": "code",
   "execution_count": null,
   "metadata": {},
   "outputs": [],
   "source": []
  }
 ],
 "metadata": {
  "kernelspec": {
   "display_name": "Python 3 (ipykernel)",
   "language": "python",
   "name": "python3"
  },
  "language_info": {
   "codemirror_mode": {
    "name": "ipython",
    "version": 3
   },
   "file_extension": ".py",
   "mimetype": "text/x-python",
   "name": "python",
   "nbconvert_exporter": "python",
   "pygments_lexer": "ipython3",
   "version": "3.10.12"
  }
 },
 "nbformat": 4,
 "nbformat_minor": 4
}
