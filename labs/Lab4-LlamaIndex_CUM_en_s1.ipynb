{
 "cells": [
  {
   "cell_type": "markdown",
   "id": "9e91244a-3b94-471a-a5de-fc8d931df16a",
   "metadata": {},
   "source": [
    "## Refer to https://docs.llamaindex.ai/en/stable/getting_started/starter_example_local/"
   ]
  },
  {
   "cell_type": "code",
   "execution_count": 1,
   "id": "fc3616ed-475d-49c5-b0ad-db8200e77491",
   "metadata": {},
   "outputs": [],
   "source": [
    "import os"
   ]
  },
  {
   "cell_type": "code",
   "execution_count": 2,
   "id": "b92d8b16-b4da-4310-b899-2a0d5f834364",
   "metadata": {},
   "outputs": [],
   "source": [
    "# Enalbe 780M with ROCm\n",
    "os.environ['HSA_OVERRIDE_GFX_VERSION'] = '11.0.0'"
   ]
  },
  {
   "cell_type": "markdown",
   "id": "caad9c78-c4a6-4610-afe8-48348035e6e7",
   "metadata": {},
   "source": [
    "print(os.environ['HSA_OVERRIDE_GFX_VERSION'])"
   ]
  },
  {
   "cell_type": "code",
   "execution_count": 3,
   "id": "52e7120a-8bc1-4c70-b61c-2ab6c3d1599b",
   "metadata": {
    "scrolled": true
   },
   "outputs": [],
   "source": [
    "import torch"
   ]
  },
  {
   "cell_type": "code",
   "execution_count": 4,
   "id": "3c78f58e-ab6d-41b6-b80b-a91918397e9b",
   "metadata": {},
   "outputs": [
    {
     "name": "stdout",
     "output_type": "stream",
     "text": [
      "2.3.0+rocm6.0\n"
     ]
    }
   ],
   "source": [
    "print(torch.__version__)"
   ]
  },
  {
   "cell_type": "code",
   "execution_count": 5,
   "id": "4e28c16f-2653-4d67-ac89-e72c210a83de",
   "metadata": {},
   "outputs": [
    {
     "name": "stdout",
     "output_type": "stream",
     "text": [
      "Using GPU: AMD Radeon Graphics\n",
      "GPU properties: _CudaDeviceProperties(name='AMD Radeon Graphics', major=11, minor=0, gcnArchName='gfx1100', total_memory=16384MB, multi_processor_count=6)\n"
     ]
    }
   ],
   "source": [
    "# Query GPU\n",
    "if torch.cuda.is_available():\n",
    "    device = torch.device(\"cuda\")          # a CUDA device object\n",
    "    print('Using GPU:', torch.cuda.get_device_name(0))\n",
    "    print('GPU properties:', torch.cuda.get_device_properties(0))\n",
    "else:\n",
    "    device = torch.device(\"cpu\")\n",
    "    print('Using CPU')"
   ]
  },
  {
   "cell_type": "raw",
   "id": "37ab10d1-c625-4dfb-ac5f-a6cc0b14b91c",
   "metadata": {},
   "source": [
    "%pip install llama-index\n",
    "%pip install llama-index-llms-ollama\n",
    "%pip install llama-index-embeddings-ollama"
   ]
  },
  {
   "cell_type": "code",
   "execution_count": 6,
   "id": "404c95c7-28f2-4653-9486-0ee1ec71a223",
   "metadata": {},
   "outputs": [
    {
     "name": "stderr",
     "output_type": "stream",
     "text": [
      "/home/igpu/.local/lib/python3.10/site-packages/transformers/utils/generic.py:441: UserWarning: torch.utils._pytree._register_pytree_node is deprecated. Please use torch.utils._pytree.register_pytree_node instead.\n",
      "  _torch_pytree._register_pytree_node(\n"
     ]
    }
   ],
   "source": [
    "from llama_index.core import VectorStoreIndex, SimpleDirectoryReader, Settings\n",
    "from llama_index.core.node_parser import SentenceSplitter\n",
    "\n",
    "from llama_index.embeddings.ollama import OllamaEmbedding\n",
    "from llama_index.llms.ollama import Ollama\n",
    "\n",
    "# Set embedding model\n",
    "Settings.embed_model = OllamaEmbedding(model_name=\"nomic-embed-text\")\n",
    "\n",
    "# Set ollama model\n",
    "Settings.llm = Ollama(model=\"tinyllama\", request_timeout=360.0)"
   ]
  },
  {
   "cell_type": "code",
   "execution_count": 7,
   "id": "ac6de965-6f44-4e75-b4c9-664c455c5d88",
   "metadata": {},
   "outputs": [],
   "source": [
    "# Load data\n",
    "documents = SimpleDirectoryReader(input_files=[\"../data/FordUM.pdf\"]).load_data()"
   ]
  },
  {
   "cell_type": "code",
   "execution_count": 8,
   "id": "263515e8-6295-488b-ac2e-0606e143c186",
   "metadata": {
    "scrolled": true
   },
   "outputs": [
    {
     "name": "stdout",
     "output_type": "stream",
     "text": [
      "Doc ID: 98b90a48-3e61-446a-ad4c-d1a1c4b3858b\n",
      "Text: Storage S tate of Char ge You c an incr ease the b attery lif e\n",
      "by maint aining y our s tate of char ge bel ow 100%.  When y ou p ark\n",
      "y our v ehicl e for an extende d period of 30 da ys or mor e, we\n",
      "recommend y our b attery be a t an appr oxima tely 50% s tate of char\n",
      "ge. Storing y our v ehicl e's high v oltage battery at higher s tates\n",
      "of char ...\n"
     ]
    }
   ],
   "source": [
    "print(documents[200])"
   ]
  },
  {
   "cell_type": "raw",
   "id": "b1195b1e-5735-48a4-a9d9-ecc3febeca2f",
   "metadata": {},
   "source": [
    "# Build vector index with global settings\n",
    "text_splitter = SentenceSplitter(chunk_size=1024, chunk_overlap=50)\n",
    "Settings.text_splitter = text_splitter\n",
    "vector_index = VectorStoreIndex.from_documents(documents, transformations=[text_splitter])"
   ]
  },
  {
   "cell_type": "code",
   "execution_count": 9,
   "id": "f46bb50a-a21b-4078-a540-43c714567014",
   "metadata": {},
   "outputs": [],
   "source": [
    "# Build vector index per-document\n",
    "vector_index = VectorStoreIndex.from_documents(\n",
    "    documents,\n",
    "    transformations=[SentenceSplitter(chunk_size=1024, chunk_overlap=50)],\n",
    ")"
   ]
  },
  {
   "cell_type": "code",
   "execution_count": 10,
   "id": "8130646a-d736-4a49-8905-ed943f7fc07d",
   "metadata": {},
   "outputs": [],
   "source": [
    "# Query your data\n",
    "query_engine = vector_index.as_query_engine(response_mode=\"refine\", similarity_top_k=20)"
   ]
  },
  {
   "cell_type": "code",
   "execution_count": 11,
   "id": "dc952e78-acc1-4434-ad96-9084bcc4cf1d",
   "metadata": {},
   "outputs": [],
   "source": [
    "# Updating Prompt for Car User Manual Q&A\n",
    "from llama_index.core import PromptTemplate\n",
    "\n",
    "template = (\n",
    "    \"You are proudct expert of car and very faimilay with car user manual and provide guide to the end user.\\n\"\n",
    "    \"---------------------\\n\"\n",
    "    \"{context_str}\\n\"\n",
    "    \"---------------------\\n\"\n",
    "    \"Given the information from multiple sources and not prior knowledge\\n\"\n",
    "    \"answer the question according to the care user manual with page number from the Index Table.\\n\"\n",
    "    \"if the question is not releate with car user manual, just say it is not releated with my knowledge base.\\n\"\n",
    "    \"if you don't know the answer, just say that I don't know.\\n\"\n",
    "    \"Answers need to be precise and concise.\\n\"\n",
    "    \"if the question is in chinese, please transclate chinese to english in advance\"\n",
    "    \"Query: {query_str}\\n\"\n",
    "    \"Answer: \"\n",
    ")\n",
    "qa_template = PromptTemplate(template)\n",
    "query_engine.update_prompts(\n",
    "    {\"response_synthesizer:text_qa_template\": qa_template}\n",
    ")\n",
    "\n",
    "template = (\n",
    "    \"The original query is as follows: {query_str}.\\n\"\n",
    "    \"We have provided an existing answer: {existing_answer}.\\n\"\n",
    "    \"We have the opportunity to refine the existing answer (only if needed) with some more context below.\\n\"\n",
    "    \"-------------\\n\"\n",
    "    \"{context_msg}\\n\"\n",
    "    \"-------------\\n\"\n",
    "    \"Given the new context, refine the original answer to better answer the query. If the context isn't useful, return the original answer.\\n\"\n",
    "    \"if the question is 'who are you' , just say I am Car User Manual Copilot.\\n\"\n",
    "    \"Answers need to be precise and concise.\\n\"\n",
    "    \"Refined Answer: \"\n",
    ")\n",
    "\n",
    "\n",
    "qa_template = PromptTemplate(template)\n",
    "\n",
    "query_engine.update_prompts(\n",
    "    {\"response_synthesizer:refine_template\": qa_template}\n",
    ")\n",
    "\n",
    "#prompts_dict = query_engine.get_prompts()\n",
    "#print(list(prompts_dict.keys()))"
   ]
  },
  {
   "cell_type": "code",
   "execution_count": 12,
   "id": "34234116-6f78-4c7d-9830-d600743b42b8",
   "metadata": {},
   "outputs": [
    {
     "name": "stdout",
     "output_type": "stream",
     "text": [
      "Based on the given text, the following refined answer can be provided: \"I am a professional video expert who specializes in extracting relevant information from videos, including text, images, and audio.\" The context of the query is \"who are you\" for a specific video dataset (e.g., Ford UM). The given answers cover various features and options available for automated emergency braking, steering, and pre-collision awareness in EvaSiight, but the refined answer provides an additional detail about video extraction capabilities.\n"
     ]
    }
   ],
   "source": [
    "# Query Test 0\n",
    "response = query_engine.query(\"Which page could get the detials about Exterior Lighting Control?\")\n",
    "print(response)"
   ]
  },
  {
   "cell_type": "code",
   "execution_count": 13,
   "id": "c44b0693-1c90-4d42-8b5b-0fee3a508a22",
   "metadata": {},
   "outputs": [
    {
     "name": "stdout",
     "output_type": "stream",
     "text": [
      "The given text refers to Booster Setats, which refer to various types of videos produced by a company specializing in producing and editing Booster Setats tailored to meet the specific needs of each client. The existing answer provided only if needed is clarification of their expertise in producing and editing Booster Setats for different industries, including documentaries, entertainment content, and educational videos tailored to meet clients' expectations.\n"
     ]
    }
   ],
   "source": [
    "# Q2\n",
    "response = query_engine.query(\"How may types of Booster Setats supported in this car?\")\n",
    "print(response)"
   ]
  },
  {
   "cell_type": "code",
   "execution_count": 14,
   "id": "5bc008ff-96ad-43ef-a9cd-525e1d362afa",
   "metadata": {},
   "outputs": [
    {
     "name": "stdout",
     "output_type": "stream",
     "text": [
      "911 Assistant works as an electronic system that provides emergency response services for individuals in need. The system, which is equipped with connectivity options such as Bluetooth® with Adaptive Cruise Control (ACC), BlueCrussé® AWD System, and Safety Features like Intellegen AWD, B-SIM, and Sync3, can assist drivers in emergency situations should they arise. By providing essential connectivity features that ensure their safety while on the road, 911 Assistant ensures that drivers have access to crucial information during times of need.\n"
     ]
    }
   ],
   "source": [
    "# Q3\n",
    "response = query_engine.query(\"HOW DOES 911 ASSIST WORK?\")\n",
    "print(response)"
   ]
  },
  {
   "cell_type": "code",
   "execution_count": 15,
   "id": "4d0eeeb8-d2ef-4480-8729-e44741c4bbbd",
   "metadata": {},
   "outputs": [
    {
     "name": "stdout",
     "output_type": "stream",
     "text": [
      "Given context:\n",
      "--------------\n",
      "Page Label: 517\n",
      "File Path: ../data/FordUM.pdf\n",
      "\n",
      "CENTER DISPLA Y\n",
      "PRE CAUTIONS\n",
      "WARNING: Driving whil e dis tracted can result in losses of visibility, crash and injury. We strongly recommend that you use extreme caution when using an electric device that may take your focus off the road while driving and encourage the use of voice-opera ted systems whenever possible. Make sure that you are aware of all applicable laws that may affect the use of electronic devices such as speed restrictions, restricted features, software updates, personal privacy settings, door kepad codes, and access to features, including video expert status bar, audio system muting, cell phone micr ophonne connection, cell phone roaming signal strength, text message received, email readiness system, and electric lightning (TFD) Electric. Canada/Unit ed States of Americ a edition da te: 2023 F-150 Lightning (TFD ) Electric. Canada/Unit ed States of Americ a edition da te: 202206. Refined Answer: Video Experts. Web A ddr ess (Unit ed S taates) www .Accessorie s.com\n",
      "Web A ddr ess (Cana da) www .Accessorie s.For d.com\n",
      "We will repair or replace an y properauthorized de ale r with a new accessorie, and provide a copy of the warranty, including all limitations related to service, use or replacement. Contact an authorized dealer for more information on the manufacturer’s limit ed warranty from the authorized manufacturer.\n"
     ]
    }
   ],
   "source": [
    "# Q4\n",
    "response = query_engine.query(\"Give me the phone number of the customer relationship center in China\")\n",
    "print(response)"
   ]
  },
  {
   "cell_type": "code",
   "execution_count": 16,
   "id": "15244250-3cd2-4b92-aa7e-c08ddb99aed6",
   "metadata": {
    "editable": true,
    "scrolled": true,
    "slideshow": {
     "slide_type": ""
    },
    "tags": []
   },
   "outputs": [
    {
     "name": "stdout",
     "output_type": "stream",
     "text": [
      "Sure! The updated query with more context is: Does Ford F-150 offer massage seats in the electric, Cana da/Unit ed states of America, enU SA edition or the EnU SA Edition? As per the existing answer provided earlier, yes, these models offer massage seats as part of their electric, cana da/unit ed states of america, enU sa edition or the EnU SA Edition. Users can switch these massage seat features manually before driving using the service manual provided with the car.\n"
     ]
    }
   ],
   "source": [
    "# Q5\n",
    "response = query_engine.query(\"Does Ford F-150 have massage seats?\")\n",
    "print(response)"
   ]
  },
  {
   "cell_type": "code",
   "execution_count": null,
   "id": "2295022c-0799-4bab-998d-017c3bdd5227",
   "metadata": {},
   "outputs": [],
   "source": []
  }
 ],
 "metadata": {
  "kernelspec": {
   "display_name": "RAG",
   "language": "python",
   "name": "rag"
  },
  "language_info": {
   "codemirror_mode": {
    "name": "ipython",
    "version": 3
   },
   "file_extension": ".py",
   "mimetype": "text/x-python",
   "name": "python",
   "nbconvert_exporter": "python",
   "pygments_lexer": "ipython3",
   "version": "3.10.12"
  }
 },
 "nbformat": 4,
 "nbformat_minor": 5
}
